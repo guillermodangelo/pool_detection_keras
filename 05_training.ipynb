{
 "cells": [
  {
   "cell_type": "code",
   "execution_count": 2,
   "id": "9aa89636-40f8-440b-a375-40f5ee72f735",
   "metadata": {},
   "outputs": [
    {
     "name": "stdout",
     "output_type": "stream",
     "text": [
      "TensorFlow built with cuda? True\n",
      "TensorFlow built with GPU support? True\n"
     ]
    }
   ],
   "source": [
    "import tensorflow as tf\n",
    "import rasterio\n",
    "import numpy as np\n",
    "\n",
    "print(f'TensorFlow built with cuda? {tf.test.is_built_with_cuda()}')\n",
    "print(f'TensorFlow built with GPU support? {tf.test.is_built_with_gpu_support()}')"
   ]
  },
  {
   "cell_type": "code",
   "execution_count": 39,
   "id": "b285c79b-73cf-4d9e-9eb0-5c0d0df0342e",
   "metadata": {},
   "outputs": [],
   "source": [
    "# load image\n",
    "img_path = './images/tif/tiles/J-29-C-5-M-5_13.tif'\n",
    "mask_path = './images/tif/masks/J-29-C-5-M-5_13.tif'\n",
    "\n",
    "def get_image(image_path, channels):\n",
    "    with rasterio.open(image_path) as source_img:\n",
    "        tensor = np.dstack([source_img.read(band) for band in range(1, channels + 1)])\n",
    "\n",
    "    return tensor"
   ]
  },
  {
   "cell_type": "code",
   "execution_count": 40,
   "id": "1481c40f-8622-457c-91bb-ce3c7125aaea",
   "metadata": {},
   "outputs": [],
   "source": [
    "tile = get_image(img_path, 3)"
   ]
  },
  {
   "cell_type": "code",
   "execution_count": 41,
   "id": "e6e6fb48-8dce-43ab-b472-036e363e1491",
   "metadata": {},
   "outputs": [],
   "source": [
    "mask = get_image(mask_path, 1)"
   ]
  },
  {
   "cell_type": "code",
   "execution_count": 43,
   "id": "76b1152d-c6b7-4191-a35c-98a2302a7a9d",
   "metadata": {},
   "outputs": [
    {
     "data": {
      "text/plain": [
       "1751850"
      ]
     },
     "execution_count": 43,
     "metadata": {},
     "output_type": "execute_result"
    }
   ],
   "source": []
  },
  {
   "cell_type": "code",
   "execution_count": null,
   "id": "101dcb52-a594-4bdd-9728-ba6fdbebe062",
   "metadata": {},
   "outputs": [],
   "source": []
  }
 ],
 "metadata": {
  "kernelspec": {
   "display_name": "Python 3 (ipykernel)",
   "language": "python",
   "name": "python3"
  },
  "language_info": {
   "codemirror_mode": {
    "name": "ipython",
    "version": 3
   },
   "file_extension": ".py",
   "mimetype": "text/x-python",
   "name": "python",
   "nbconvert_exporter": "python",
   "pygments_lexer": "ipython3",
   "version": "3.11.0rc1"
  }
 },
 "nbformat": 4,
 "nbformat_minor": 5
}
