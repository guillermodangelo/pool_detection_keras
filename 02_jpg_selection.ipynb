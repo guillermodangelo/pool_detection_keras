{
 "cells": [
  {
   "cell_type": "code",
   "execution_count": 1,
   "metadata": {},
   "outputs": [],
   "source": [
    "import os\n",
    "import rasterio\n",
    "import geopandas as gpd\n",
    "from shapely.geometry import Polygon"
   ]
  },
  {
   "cell_type": "code",
   "execution_count": 2,
   "metadata": {},
   "outputs": [
    {
     "data": {
      "text/plain": [
       "<Axes: >"
      ]
     },
     "execution_count": 2,
     "metadata": {},
     "output_type": "execute_result"
    },
    {
     "data": {
      "image/png": "[encoded data removed]",
      "text/plain": [
       "<Figure size 640x480 with 1 Axes>"
      ]
     },
     "metadata": {},
     "output_type": "display_data"
    }
   ],
   "source": [
    "aoi = gpd.read_file('input_vector_data/aoi_predict.geojson')\n",
    "aoi.plot()"
   ]
  },
  {
   "cell_type": "code",
   "execution_count": 3,
   "metadata": {},
   "outputs": [
    {
     "name": "stdout",
     "output_type": "stream",
     "text": [
      "['J-29-C-4-N-5.jpg', 'J-29-C-5-M-2.jpg', 'J-29-C-4-P-2.jpg', 'J-29-C-2-O-6.jpg', 'J-29-C-2-P-8.jpg']\n"
     ]
    }
   ],
   "source": [
    "input_images = [img for img in os.listdir('images') if img.endswith('.jpg')]\n",
    "print(input_images[:5])\n",
    "\n",
    "inpath = 'images'\n",
    "outpath = 'images/overlap'"
   ]
  },
  {
   "cell_type": "code",
   "execution_count": 4,
   "metadata": {},
   "outputs": [
    {
     "name": "stdout",
     "output_type": "stream",
     "text": [
      "Directory was created\n"
     ]
    }
   ],
   "source": [
    "if not os.path.isdir(outpath):\n",
    "    os.makedirs(outpath)\n",
    "    print('Directory was created')\n",
    "else:\n",
    "    print('Directory already exists')"
   ]
  },
  {
   "cell_type": "code",
   "execution_count": null,
   "metadata": {},
   "outputs": [
    {
     "name": "stdout",
     "output_type": "stream",
     "text": [
      "No hay intersección entre AOI e imagen input.\n",
      "Saved image images/overlap/J-29-C-5-M-2.jpg\n",
      "No hay intersección entre AOI e imagen input.\n",
      "No hay intersección entre AOI e imagen input.\n",
      "Saved image images/overlap/J-29-C-2-P-8.jpg\n",
      "No hay intersección entre AOI e imagen input.\n",
      "No hay intersección entre AOI e imagen input.\n",
      "No hay intersección entre AOI e imagen input.\n",
      "Saved image images/overlap/J-29-C-5-N-6.jpg\n",
      "Saved image images/overlap/J-29-C-5-N-3.jpg\n",
      "Saved image images/overlap/J-29-C-6-M-1.jpg\n",
      "Saved image images/overlap/J-29-C-5-M-3.jpg\n",
      "Saved image images/overlap/J-29-C-5-O-2.jpg\n",
      "No hay intersección entre AOI e imagen input.\n",
      "No hay intersección entre AOI e imagen input.\n",
      "Saved image images/overlap/J-29-C-5-N-5.jpg\n",
      "No hay intersección entre AOI e imagen input.\n",
      "Saved image images/overlap/J-29-C-5-O-1.jpg\n",
      "No hay intersección entre AOI e imagen input.\n",
      "Saved image images/overlap/J-29-C-3-O-7.jpg\n",
      "No hay intersección entre AOI e imagen input.\n",
      "No hay intersección entre AOI e imagen input.\n",
      "Saved image images/overlap/J-29-C-5-M-6.jpg\n",
      "Saved image images/overlap/J-29-C-5-N-2.jpg\n",
      "No hay intersección entre AOI e imagen input.\n",
      "Saved image images/overlap/J-29-C-2-O-9.jpg\n",
      "Saved image images/overlap/J-29-C-5-P-1.jpg\n",
      "Saved image images/overlap/J-29-C-5-M-5.jpg\n",
      "No hay intersección entre AOI e imagen input.\n",
      "No hay intersección entre AOI e imagen input.\n",
      "Saved image images/overlap/J-29-C-5-N-4.jpg\n",
      "Saved image images/overlap/J-29-C-2-P-5.jpg\n",
      "Saved image images/overlap/J-29-C-5-M-7.jpg\n",
      "No hay intersección entre AOI e imagen input.\n",
      "Saved image images/overlap/J-29-C-5-N-1.jpg\n",
      "No hay intersección entre AOI e imagen input.\n",
      "No hay intersección entre AOI e imagen input.\n",
      "No hay intersección entre AOI e imagen input.\n",
      "No hay intersección entre AOI e imagen input.\n"
     ]
    }
   ],
   "source": [
    "kwargs = {\n",
    "    'driver': 'JPEG',\n",
    "    'dtype': 'uint8',\n",
    "    'crs': 'EPSG:32721', \n",
    "    'nodata': 0,\n",
    "    'compress': 'lzw',\n",
    "    'count': 3\n",
    "}\n",
    "\n",
    "for img in input_images:\n",
    "    input_file = os.path.join(inpath, img)\n",
    "    output_file = os.path.join(outpath, img)\n",
    "\n",
    "    raster = rasterio.open(input_file)\n",
    "\n",
    "    coords = [raster.bounds[i] for i in range(4)]\n",
    "\n",
    "    lon_point_list = [coords[0], coords[2], coords[2], coords[0]]\n",
    "    lat_point_list = [coords[3], coords[3], coords[1], coords[1]]\n",
    "\n",
    "    bbox = Polygon(zip(lon_point_list, lat_point_list))\n",
    "\n",
    "    if not bbox.intersects(aoi.geometry[0]):\n",
    "        print('No hay intersección entre AOI e imagen input.')\n",
    "    else:\n",
    "        out_meta = raster.meta.copy()\n",
    "        out_meta.update(kwargs)\n",
    "\n",
    "        with rasterio.open(\n",
    "            output_file,\n",
    "            mode= 'w',\n",
    "            **out_meta\n",
    "        ) as dst:\n",
    "            dst.write_band(1, raster.read(1))\n",
    "            dst.write_band(2, raster.read(2))\n",
    "            dst.write_band(3, raster.read(3))\n",
    "        print(f'Saved image {output_file}')"
   ]
  },
  {
   "cell_type": "code",
   "execution_count": null,
   "metadata": {},
   "outputs": [],
   "source": []
  }
 ],
 "metadata": {
  "kernelspec": {
   "display_name": "Python 3 (ipykernel)",
   "language": "python",
   "name": "python3"
  },
  "language_info": {
   "codemirror_mode": {
    "name": "ipython",
    "version": 3
   },
   "file_extension": ".py",
   "mimetype": "text/x-python",
   "name": "python",
   "nbconvert_exporter": "python",
   "pygments_lexer": "ipython3",
   "version": "3.11.0rc1"
  }
 },
 "nbformat": 4,
 "nbformat_minor": 4
}
