{
 "cells": [
  {
   "cell_type": "code",
   "execution_count": 6,
   "metadata": {},
   "outputs": [],
   "source": [
    "from geotile import GeoTile"
   ]
  },
  {
   "cell_type": "code",
   "execution_count": 9,
   "metadata": {},
   "outputs": [
    {
     "name": "stdout",
     "output_type": "stream",
     "text": [
      "J-29-C-1-O-6.tif  J-29-C-2-P-9.tif  J-29-C-4-O-9.tif  J-29-C-5-N-4.tif\r\n",
      "J-29-C-1-O-9.tif  J-29-C-3-O-4.tif  J-29-C-4-P-1.tif  J-29-C-5-N-5.tif\r\n",
      "J-29-C-1-P-4.tif  J-29-C-3-O-7.tif  J-29-C-4-P-2.tif  J-29-C-5-N-6.tif\r\n",
      "J-29-C-1-P-5.tif  J-29-C-3-O-8.tif  J-29-C-4-P-3.tif  J-29-C-5-N-7.tif\r\n",
      "J-29-C-1-P-6.tif  J-29-C-3-O-9.tif  J-29-C-4-P-4.tif  J-29-C-5-N-8.tif\r\n",
      "J-29-C-1-P-7.tif  J-29-C-4-M-3.tif  J-29-C-4-P-5.tif  J-29-C-5-N-9.tif\r\n",
      "J-29-C-1-P-8.tif  J-29-C-4-M-6.tif  J-29-C-4-P-7.tif  J-29-C-5-O-1.tif\r\n",
      "J-29-C-1-P-9.tif  J-29-C-4-M-9.tif  J-29-C-5-M-1.tif  J-29-C-5-O-2.tif\r\n",
      "J-29-C-2-O-4.tif  J-29-C-4-N-1.tif  J-29-C-5-M-2.tif  J-29-C-5-O-3.tif\r\n",
      "J-29-C-2-O-5.tif  J-29-C-4-N-2.tif  J-29-C-5-M-3.tif  J-29-C-5-P-1.tif\r\n",
      "J-29-C-2-O-6.tif  J-29-C-4-N-3.tif  J-29-C-5-M-4.tif  J-29-C-5-P-2.tif\r\n",
      "J-29-C-2-O-7.tif  J-29-C-4-N-4.tif  J-29-C-5-M-5.tif  J-29-C-6-M-1.tif\r\n",
      "J-29-C-2-O-8.tif  J-29-C-4-N-5.tif  J-29-C-5-M-6.tif  J-29-C-6-M-2.tif\r\n",
      "J-29-C-2-O-9.tif  J-29-C-4-N-6.tif  J-29-C-5-M-7.tif  J-29-C-6-M-3.tif\r\n",
      "J-29-C-2-P-4.tif  J-29-C-4-N-7.tif  J-29-C-5-M-8.tif  J-29-C-6-M-4.tif\r\n",
      "J-29-C-2-P-5.tif  J-29-C-4-N-8.tif  J-29-C-5-M-9.tif  J-29-C-6-M-5.tif\r\n",
      "J-29-C-2-P-6.tif  J-29-C-4-N-9.tif  J-29-C-5-N-1.tif\r\n",
      "J-29-C-2-P-7.tif  J-29-C-4-O-3.tif  J-29-C-5-N-2.tif\r\n",
      "J-29-C-2-P-8.tif  J-29-C-4-O-6.tif  J-29-C-5-N-3.tif\r\n"
     ]
    }
   ],
   "source": [
    "!ls images/tif"
   ]
  },
  {
   "cell_type": "code",
   "execution_count": 10,
   "metadata": {},
   "outputs": [],
   "source": [
    "gt = GeoTile('images/tif/J-29-C-1-O-6.tif')"
   ]
  },
  {
   "cell_type": "code",
   "execution_count": 11,
   "metadata": {},
   "outputs": [],
   "source": [
    "# to generate the tiles of raster\n",
    "gt.generate_tiles('images/tif/tiles/', tile_x=512, tile_y=512, stride_x=512, stride_y=512)"
   ]
  },
  {
   "cell_type": "code",
   "execution_count": null,
   "metadata": {},
   "outputs": [],
   "source": [
    "\n",
    "\n",
    "# to generate the tiles of raster\n",
    "gt.generate_tiles(r'/path/to/output/folder', tile_x=512, tile_y=512, stride_x=512, stride_y=512)\n",
    "\n",
    "# to generate the tiles of selected bands only\n",
    "gt.generate_tiles(r'/path/to/output/folder', bands=[4, 3, 2], tile_x=256, tile_y=256, stride_x=256, stride_y=256)\n",
    "\n",
    "# to merge the tiles\n",
    "from geotile import mosaic\n",
    "mosaic('/path/to/input/folder/tiles', output_file='path/to/output/file.tif')\n",
    "\n",
    "# to generate the raster mask from shapefile\n",
    "gt.mask('/path/to/shapefile.shp', '/path/to/output/file.tif')\n",
    "\n",
    "# to rasterize the shapefile based on column value,\n",
    "gt.rasterization(input_vector='path/to/shp.shp', out_path='path/to/output.tif' value_col=\"value_col\")\n",
    "\n",
    "# to close the file\n",
    "gt.close()"
   ]
  },
  {
   "cell_type": "code",
   "execution_count": 2,
   "metadata": {},
   "outputs": [],
   "source": [
    "from osgeo import gdal"
   ]
  },
  {
   "cell_type": "code",
   "execution_count": 3,
   "metadata": {},
   "outputs": [
    {
     "name": "stdout",
     "output_type": "stream",
     "text": [
      "GDAL 3.0.0, released 2019/05/05\r\n"
     ]
    }
   ],
   "source": [
    "!gdalinfo --version "
   ]
  },
  {
   "cell_type": "code",
   "execution_count": 4,
   "metadata": {},
   "outputs": [],
   "source": [
    "from geotile import GeoTile"
   ]
  },
  {
   "cell_type": "code",
   "execution_count": null,
   "metadata": {},
   "outputs": [],
   "source": []
  }
 ],
 "metadata": {
  "kernelspec": {
   "display_name": "Python 3 (ipykernel)",
   "language": "python",
   "name": "python3"
  },
  "language_info": {
   "codemirror_mode": {
    "name": "ipython",
    "version": 3
   },
   "file_extension": ".py",
   "mimetype": "text/x-python",
   "name": "python",
   "nbconvert_exporter": "python",
   "pygments_lexer": "ipython3",
   "version": "3.7.3"
  }
 },
 "nbformat": 4,
 "nbformat_minor": 4
}
