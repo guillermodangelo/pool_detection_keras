{
 "cells": [
  {
   "cell_type": "code",
   "execution_count": 1,
   "metadata": {},
   "outputs": [],
   "source": [
    "import os\n",
    "from itertools import repeat\n",
    "from concurrent.futures import ThreadPoolExecutor\n",
    "from geotile import GeoTile"
   ]
  },
  {
   "cell_type": "code",
   "execution_count": 2,
   "metadata": {},
   "outputs": [
    {
     "name": "stdout",
     "output_type": "stream",
     "text": [
      "J-29-C-1-O-6.tif  J-29-C-2-P-9.tif  J-29-C-4-O-9.tif  J-29-C-5-N-4.tif\r\n",
      "J-29-C-1-O-9.tif  J-29-C-3-O-4.tif  J-29-C-4-P-1.tif  J-29-C-5-N-5.tif\r\n",
      "J-29-C-1-P-4.tif  J-29-C-3-O-7.tif  J-29-C-4-P-2.tif  J-29-C-5-N-6.tif\r\n",
      "J-29-C-1-P-5.tif  J-29-C-3-O-8.tif  J-29-C-4-P-3.tif  J-29-C-5-N-7.tif\r\n",
      "J-29-C-1-P-6.tif  J-29-C-3-O-9.tif  J-29-C-4-P-4.tif  J-29-C-5-N-8.tif\r\n",
      "J-29-C-1-P-7.tif  J-29-C-4-M-3.tif  J-29-C-4-P-5.tif  J-29-C-5-N-9.tif\r\n",
      "J-29-C-1-P-8.tif  J-29-C-4-M-6.tif  J-29-C-4-P-7.tif  J-29-C-5-O-1.tif\r\n",
      "J-29-C-1-P-9.tif  J-29-C-4-M-9.tif  J-29-C-5-M-1.tif  J-29-C-5-O-2.tif\r\n",
      "J-29-C-2-O-4.tif  J-29-C-4-N-1.tif  J-29-C-5-M-2.tif  J-29-C-5-O-3.tif\r\n",
      "J-29-C-2-O-5.tif  J-29-C-4-N-2.tif  J-29-C-5-M-3.tif  J-29-C-5-P-1.tif\r\n",
      "J-29-C-2-O-6.tif  J-29-C-4-N-3.tif  J-29-C-5-M-4.tif  J-29-C-5-P-2.tif\r\n",
      "J-29-C-2-O-7.tif  J-29-C-4-N-4.tif  J-29-C-5-M-5.tif  J-29-C-6-M-1.tif\r\n",
      "J-29-C-2-O-8.tif  J-29-C-4-N-5.tif  J-29-C-5-M-6.tif  J-29-C-6-M-2.tif\r\n",
      "J-29-C-2-O-9.tif  J-29-C-4-N-6.tif  J-29-C-5-M-7.tif  J-29-C-6-M-3.tif\r\n",
      "J-29-C-2-P-4.tif  J-29-C-4-N-7.tif  J-29-C-5-M-8.tif  J-29-C-6-M-4.tif\r\n",
      "J-29-C-2-P-5.tif  J-29-C-4-N-8.tif  J-29-C-5-M-9.tif  J-29-C-6-M-5.tif\r\n",
      "J-29-C-2-P-6.tif  J-29-C-4-N-9.tif  J-29-C-5-N-1.tif  tiles\r\n",
      "J-29-C-2-P-7.tif  J-29-C-4-O-3.tif  J-29-C-5-N-2.tif\r\n",
      "J-29-C-2-P-8.tif  J-29-C-4-O-6.tif  J-29-C-5-N-3.tif\r\n"
     ]
    }
   ],
   "source": [
    "!ls images/tif"
   ]
  },
  {
   "cell_type": "code",
   "execution_count": 12,
   "metadata": {},
   "outputs": [],
   "source": [
    "def tile_image(input_image, output_path):\n",
    "        gt = GeoTile(input_image)\n",
    "        image_name = os.path.basename(input_image)\n",
    "        prefix = image_name.replace('.tif', '_')\n",
    "        gt.generate_tiles(\n",
    "            output_path,\n",
    "            tile_x=1024,\n",
    "            tile_y=1024,\n",
    "            stride_x=1024,\n",
    "            stride_y=1024,\n",
    "            prefix=prefix\n",
    "        )\n",
    "\n",
    "\n",
    "def tiles_from_path(input_path, output_path, debug: bool = False):\n",
    "    input_images = [img for img in os.listdir('images/tif') if img.endswith('.tif')]\n",
    "    \n",
    "    if debug:\n",
    "        input_images = input_images[:12]\n",
    "\n",
    "    try:\n",
    "        print(f'Processing {len(input_images)} images...')\n",
    "\n",
    "        input_images_path = [os.path.join(input_path, img) for img in input_images]\n",
    "\n",
    "        with ThreadPoolExecutor(max_workers=12) as executor:\n",
    "            futures = list(executor.map(\n",
    "                tile_image,\n",
    "                input_images_path,\n",
    "                repeat(output_path)\n",
    "            ))\n",
    "        print('Processing complete.')\n",
    "        \n",
    "    except Exception as e:\n",
    "        print('Failed processing: ', e)"
   ]
  },
  {
   "cell_type": "code",
   "execution_count": 13,
   "metadata": {},
   "outputs": [
    {
     "name": "stdout",
     "output_type": "stream",
     "text": [
      "['J-29-C-5-M-7.tif', 'J-29-C-4-P-4.tif', 'J-29-C-4-P-2.tif', 'J-29-C-4-P-3.tif', 'J-29-C-4-N-3.tif', 'J-29-C-4-O-9.tif', 'J-29-C-4-N-6.tif', 'J-29-C-6-M-5.tif', 'J-29-C-4-N-2.tif', 'J-29-C-5-M-2.tif', 'J-29-C-6-M-2.tif', 'J-29-C-5-N-4.tif']\n",
      "Processing 12 images\n",
      "['images/tif/J-29-C-5-M-7.tif', 'images/tif/J-29-C-4-P-4.tif', 'images/tif/J-29-C-4-P-2.tif', 'images/tif/J-29-C-4-P-3.tif', 'images/tif/J-29-C-4-N-3.tif', 'images/tif/J-29-C-4-O-9.tif', 'images/tif/J-29-C-4-N-6.tif', 'images/tif/J-29-C-6-M-5.tif', 'images/tif/J-29-C-4-N-2.tif', 'images/tif/J-29-C-5-M-2.tif', 'images/tif/J-29-C-6-M-2.tif', 'images/tif/J-29-C-5-N-4.tif']\n"
     ]
    }
   ],
   "source": [
    "input_path = 'images/tif'\n",
    "output_path = 'images/tif/tiles/'\n",
    "\n",
    "tiles_from_path(input_path, output_path, True)"
   ]
  },
  {
   "cell_type": "code",
   "execution_count": null,
   "metadata": {},
   "outputs": [],
   "source": []
  }
 ],
 "metadata": {
  "kernelspec": {
   "display_name": "Python 3 (ipykernel)",
   "language": "python",
   "name": "python3"
  },
  "language_info": {
   "codemirror_mode": {
    "name": "ipython",
    "version": 3
   },
   "file_extension": ".py",
   "mimetype": "text/x-python",
   "name": "python",
   "nbconvert_exporter": "python",
   "pygments_lexer": "ipython3",
   "version": "3.7.3"
  }
 },
 "nbformat": 4,
 "nbformat_minor": 4
}
