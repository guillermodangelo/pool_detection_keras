{
 "cells": [
  {
   "cell_type": "code",
   "execution_count": 5,
   "metadata": {},
   "outputs": [],
   "source": [
    "import os\n",
    "from geotile import GeoTile"
   ]
  },
  {
   "cell_type": "code",
   "execution_count": 6,
   "metadata": {},
   "outputs": [
    {
     "name": "stdout",
     "output_type": "stream",
     "text": [
      "00_tests.ipynb\t\t   README.md\t\t    images\r\n",
      "01_download_imagery.ipynb  docker-compose-gdal.yml  images_aoi.csv\r\n",
      "02_tif_conversion.ipynb    docker-compose.yml\t    input_vector_data\r\n",
      "03_splitting.ipynb\t   gdal.Dockerfile\t    scripts\r\n",
      "Dockerfile\t\t   image_downloader.py\r\n"
     ]
    }
   ],
   "source": [
    "!ls"
   ]
  },
  {
   "cell_type": "code",
   "execution_count": 7,
   "metadata": {},
   "outputs": [
    {
     "name": "stdout",
     "output_type": "stream",
     "text": [
      "J-29-C-1-O-6.tif  J-29-C-2-P-9.tif  J-29-C-4-O-9.tif  J-29-C-5-N-4.tif\r\n",
      "J-29-C-1-O-9.tif  J-29-C-3-O-4.tif  J-29-C-4-P-1.tif  J-29-C-5-N-5.tif\r\n",
      "J-29-C-1-P-4.tif  J-29-C-3-O-7.tif  J-29-C-4-P-2.tif  J-29-C-5-N-6.tif\r\n",
      "J-29-C-1-P-5.tif  J-29-C-3-O-8.tif  J-29-C-4-P-3.tif  J-29-C-5-N-7.tif\r\n",
      "J-29-C-1-P-6.tif  J-29-C-3-O-9.tif  J-29-C-4-P-4.tif  J-29-C-5-N-8.tif\r\n",
      "J-29-C-1-P-7.tif  J-29-C-4-M-3.tif  J-29-C-4-P-5.tif  J-29-C-5-N-9.tif\r\n",
      "J-29-C-1-P-8.tif  J-29-C-4-M-6.tif  J-29-C-4-P-7.tif  J-29-C-5-O-1.tif\r\n",
      "J-29-C-1-P-9.tif  J-29-C-4-M-9.tif  J-29-C-5-M-1.tif  J-29-C-5-O-2.tif\r\n",
      "J-29-C-2-O-4.tif  J-29-C-4-N-1.tif  J-29-C-5-M-2.tif  J-29-C-5-O-3.tif\r\n",
      "J-29-C-2-O-5.tif  J-29-C-4-N-2.tif  J-29-C-5-M-3.tif  J-29-C-5-P-1.tif\r\n",
      "J-29-C-2-O-6.tif  J-29-C-4-N-3.tif  J-29-C-5-M-4.tif  J-29-C-5-P-2.tif\r\n",
      "J-29-C-2-O-7.tif  J-29-C-4-N-4.tif  J-29-C-5-M-5.tif  J-29-C-6-M-1.tif\r\n",
      "J-29-C-2-O-8.tif  J-29-C-4-N-5.tif  J-29-C-5-M-6.tif  J-29-C-6-M-2.tif\r\n",
      "J-29-C-2-O-9.tif  J-29-C-4-N-6.tif  J-29-C-5-M-7.tif  J-29-C-6-M-3.tif\r\n",
      "J-29-C-2-P-4.tif  J-29-C-4-N-7.tif  J-29-C-5-M-8.tif  J-29-C-6-M-4.tif\r\n",
      "J-29-C-2-P-5.tif  J-29-C-4-N-8.tif  J-29-C-5-M-9.tif  J-29-C-6-M-5.tif\r\n",
      "J-29-C-2-P-6.tif  J-29-C-4-N-9.tif  J-29-C-5-N-1.tif  tiles\r\n",
      "J-29-C-2-P-7.tif  J-29-C-4-O-3.tif  J-29-C-5-N-2.tif\r\n",
      "J-29-C-2-P-8.tif  J-29-C-4-O-6.tif  J-29-C-5-N-3.tif\r\n"
     ]
    }
   ],
   "source": [
    "!ls images/tif"
   ]
  },
  {
   "cell_type": "code",
   "execution_count": 11,
   "metadata": {},
   "outputs": [
    {
     "data": {
      "text/plain": [
       "['J-29-C-5-M-7.tif', 'J-29-C-4-P-4.tif', 'J-29-C-4-P-2.tif']"
      ]
     },
     "execution_count": 11,
     "metadata": {},
     "output_type": "execute_result"
    }
   ],
   "source": [
    "images = [img for img in os.listdir('images/tif')]\n",
    "images[:3]"
   ]
  },
  {
   "cell_type": "code",
   "execution_count": 17,
   "metadata": {},
   "outputs": [
    {
     "name": "stderr",
     "output_type": "stream",
     "text": [
      "Exception ignored in: <function GeoTile.__del__ at 0x74ebc40e6730>\n",
      "Traceback (most recent call last):\n",
      "  File \"/usr/local/lib/python3.7/site-packages/geotile/GeoTile.py\", line 70, in __del__\n",
      "    self.ds.close()\n",
      "AttributeError: 'GeoTile' object has no attribute 'ds'\n"
     ]
    },
    {
     "ename": "KeyboardInterrupt",
     "evalue": "",
     "output_type": "error",
     "traceback": [
      "\u001b[0;31m---------------------------------------------------------------------------\u001b[0m",
      "\u001b[0;31mKeyboardInterrupt\u001b[0m                         Traceback (most recent call last)",
      "\u001b[0;32m/tmp/ipykernel_12/3578167348.py\u001b[0m in \u001b[0;36m<module>\u001b[0;34m\u001b[0m\n\u001b[1;32m      7\u001b[0m         \u001b[0mstride_x\u001b[0m\u001b[0;34m=\u001b[0m\u001b[0;36m256\u001b[0m\u001b[0;34m,\u001b[0m\u001b[0;34m\u001b[0m\u001b[0;34m\u001b[0m\u001b[0m\n\u001b[1;32m      8\u001b[0m         \u001b[0mstride_y\u001b[0m\u001b[0;34m=\u001b[0m\u001b[0;36m256\u001b[0m\u001b[0;34m,\u001b[0m\u001b[0;34m\u001b[0m\u001b[0;34m\u001b[0m\u001b[0m\n\u001b[0;32m----> 9\u001b[0;31m         \u001b[0mprefix\u001b[0m\u001b[0;34m=\u001b[0m\u001b[0mimg\u001b[0m\u001b[0;34m.\u001b[0m\u001b[0mreplace\u001b[0m\u001b[0;34m(\u001b[0m\u001b[0;34m'.tif'\u001b[0m\u001b[0;34m,\u001b[0m \u001b[0;34m''\u001b[0m\u001b[0;34m)\u001b[0m\u001b[0;34m\u001b[0m\u001b[0;34m\u001b[0m\u001b[0m\n\u001b[0m\u001b[1;32m     10\u001b[0m     )\n",
      "\u001b[0;32m/usr/local/lib/python3.7/site-packages/geotile/GeoTile.py\u001b[0m in \u001b[0;36mgenerate_tiles\u001b[0;34m(self, output_folder, suffix, prefix, save_tiles, save_transform, out_bands, image_format, dtype, tile_x, tile_y, stride_x, stride_y)\u001b[0m\n\u001b[1;32m    348\u001b[0m             \u001b[0;31m# read the window data and append to the list\u001b[0m\u001b[0;34m\u001b[0m\u001b[0;34m\u001b[0m\u001b[0;34m\u001b[0m\u001b[0m\n\u001b[1;32m    349\u001b[0m             single_tile_data = self.ds.read(\n\u001b[0;32m--> 350\u001b[0;31m                 \u001b[0mout_bands\u001b[0m\u001b[0;34m,\u001b[0m \u001b[0mwindow\u001b[0m\u001b[0;34m=\u001b[0m\u001b[0mwindow\u001b[0m\u001b[0;34m,\u001b[0m \u001b[0mfill_value\u001b[0m\u001b[0;34m=\u001b[0m\u001b[0mnodata\u001b[0m\u001b[0;34m,\u001b[0m \u001b[0mboundless\u001b[0m\u001b[0;34m=\u001b[0m\u001b[0;32mTrue\u001b[0m\u001b[0;34m\u001b[0m\u001b[0;34m\u001b[0m\u001b[0m\n\u001b[0m\u001b[1;32m    351\u001b[0m             )\n\u001b[1;32m    352\u001b[0m             \u001b[0mself\u001b[0m\u001b[0;34m.\u001b[0m\u001b[0mtile_data\u001b[0m\u001b[0;34m.\u001b[0m\u001b[0mappend\u001b[0m\u001b[0;34m(\u001b[0m\u001b[0msingle_tile_data\u001b[0m\u001b[0;34m)\u001b[0m\u001b[0;34m\u001b[0m\u001b[0;34m\u001b[0m\u001b[0m\n",
      "\u001b[0;32mrasterio/_io.pyx\u001b[0m in \u001b[0;36mrasterio._io.DatasetReaderBase.read\u001b[0;34m()\u001b[0m\n",
      "\u001b[0;32mrasterio/_base.pyx\u001b[0m in \u001b[0;36mrasterio._base.DatasetBase.__exit__\u001b[0;34m()\u001b[0m\n",
      "\u001b[0;32m/usr/local/lib/python3.7/site-packages/rasterio/env.py\u001b[0m in \u001b[0;36m__exit__\u001b[0;34m(self, exc_type, exc_val, exc_tb)\u001b[0m\n\u001b[1;32m    283\u001b[0m         \u001b[0;32mreturn\u001b[0m \u001b[0mself\u001b[0m\u001b[0;34m\u001b[0m\u001b[0;34m\u001b[0m\u001b[0m\n\u001b[1;32m    284\u001b[0m \u001b[0;34m\u001b[0m\u001b[0m\n\u001b[0;32m--> 285\u001b[0;31m     \u001b[0;32mdef\u001b[0m \u001b[0m__exit__\u001b[0m\u001b[0;34m(\u001b[0m\u001b[0mself\u001b[0m\u001b[0;34m,\u001b[0m \u001b[0mexc_type\u001b[0m\u001b[0;34m=\u001b[0m\u001b[0;32mNone\u001b[0m\u001b[0;34m,\u001b[0m \u001b[0mexc_val\u001b[0m\u001b[0;34m=\u001b[0m\u001b[0;32mNone\u001b[0m\u001b[0;34m,\u001b[0m \u001b[0mexc_tb\u001b[0m\u001b[0;34m=\u001b[0m\u001b[0;32mNone\u001b[0m\u001b[0;34m)\u001b[0m\u001b[0;34m:\u001b[0m\u001b[0;34m\u001b[0m\u001b[0;34m\u001b[0m\u001b[0m\n\u001b[0m\u001b[1;32m    286\u001b[0m         \u001b[0mlog\u001b[0m\u001b[0;34m.\u001b[0m\u001b[0mdebug\u001b[0m\u001b[0;34m(\u001b[0m\u001b[0;34m\"Exiting env context: %r\"\u001b[0m\u001b[0;34m,\u001b[0m \u001b[0mself\u001b[0m\u001b[0;34m)\u001b[0m\u001b[0;34m\u001b[0m\u001b[0;34m\u001b[0m\u001b[0m\n\u001b[1;32m    287\u001b[0m         \u001b[0mdelenv\u001b[0m\u001b[0;34m(\u001b[0m\u001b[0;34m)\u001b[0m\u001b[0;34m\u001b[0m\u001b[0;34m\u001b[0m\u001b[0m\n",
      "\u001b[0;31mKeyboardInterrupt\u001b[0m: "
     ]
    }
   ],
   "source": [
    "for img in images[:3]:\n",
    "    gt = GeoTile(os.path.join('images', 'tif', img))\n",
    "    prefix = img.replace('.tif', '_')\n",
    "    gt.generate_tiles(\n",
    "        'images/tif/tiles/',\n",
    "        tile_x=512,\n",
    "        tile_y=512,\n",
    "        stride_x=256,\n",
    "        stride_y=256,\n",
    "        prefix=prefix\n",
    "    )"
   ]
  },
  {
   "cell_type": "code",
   "execution_count": null,
   "metadata": {},
   "outputs": [],
   "source": []
  },
  {
   "cell_type": "code",
   "execution_count": null,
   "metadata": {},
   "outputs": [],
   "source": []
  },
  {
   "cell_type": "code",
   "execution_count": null,
   "metadata": {},
   "outputs": [],
   "source": []
  },
  {
   "cell_type": "code",
   "execution_count": 10,
   "metadata": {},
   "outputs": [
    {
     "ename": "AttributeError",
     "evalue": "'GeoTile' object has no attribute 'generate_raster_mask'",
     "output_type": "error",
     "traceback": [
      "\u001b[0;31m---------------------------------------------------------------------------\u001b[0m",
      "\u001b[0;31mAttributeError\u001b[0m                            Traceback (most recent call last)",
      "\u001b[0;32m/tmp/ipykernel_30/3719735766.py\u001b[0m in \u001b[0;36m<module>\u001b[0;34m\u001b[0m\n\u001b[1;32m      1\u001b[0m \u001b[0;31m# to generate the raster mask from shapefile\u001b[0m\u001b[0;34m\u001b[0m\u001b[0;34m\u001b[0m\u001b[0;34m\u001b[0m\u001b[0m\n\u001b[0;32m----> 2\u001b[0;31m \u001b[0mgt\u001b[0m\u001b[0;34m.\u001b[0m\u001b[0mgenerate_raster_mask\u001b[0m\u001b[0;34m(\u001b[0m\u001b[0;34m'input_vector_data/aoi_train.geojson'\u001b[0m\u001b[0;34m,\u001b[0m \u001b[0;34m'file.tif'\u001b[0m\u001b[0;34m)\u001b[0m\u001b[0;34m\u001b[0m\u001b[0;34m\u001b[0m\u001b[0m\n\u001b[0m",
      "\u001b[0;31mAttributeError\u001b[0m: 'GeoTile' object has no attribute 'generate_raster_mask'"
     ]
    }
   ],
   "source": [
    "# to generate the raster mask from shapefile\n",
    "gt.generate_raster_mask('input_vector_data/aoi_train.geojson', 'file.tif')"
   ]
  },
  {
   "cell_type": "code",
   "execution_count": null,
   "metadata": {},
   "outputs": [],
   "source": [
    "# to generate the raster mask from shapefile\n",
    "gt.mask('/path/to/shapefile.shp', '/path/to/output/file.tif')\n",
    "\n",
    "# to rasterize the shapefile based on column value,\n",
    "gt.rasterization(input_vector='path/to/shp.shp', out_path='path/to/output.tif' value_col=\"value_col\")\n",
    "\n",
    "# to close the file\n",
    "gt.close()"
   ]
  },
  {
   "cell_type": "code",
   "execution_count": 2,
   "metadata": {},
   "outputs": [],
   "source": [
    "from osgeo import gdal"
   ]
  },
  {
   "cell_type": "code",
   "execution_count": 3,
   "metadata": {},
   "outputs": [
    {
     "name": "stdout",
     "output_type": "stream",
     "text": [
      "GDAL 3.0.0, released 2019/05/05\r\n"
     ]
    }
   ],
   "source": [
    "!gdalinfo --version "
   ]
  },
  {
   "cell_type": "code",
   "execution_count": 4,
   "metadata": {},
   "outputs": [],
   "source": [
    "from geotile import GeoTile"
   ]
  },
  {
   "cell_type": "code",
   "execution_count": null,
   "metadata": {},
   "outputs": [],
   "source": []
  }
 ],
 "metadata": {
  "kernelspec": {
   "display_name": "Python 3 (ipykernel)",
   "language": "python",
   "name": "python3"
  },
  "language_info": {
   "codemirror_mode": {
    "name": "ipython",
    "version": 3
   },
   "file_extension": ".py",
   "mimetype": "text/x-python",
   "name": "python",
   "nbconvert_exporter": "python",
   "pygments_lexer": "ipython3",
   "version": "3.7.3"
  }
 },
 "nbformat": 4,
 "nbformat_minor": 4
}
