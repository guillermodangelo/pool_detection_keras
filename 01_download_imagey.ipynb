{
 "cells": [
  {
   "cell_type": "code",
   "execution_count": 1,
   "metadata": {},
   "outputs": [],
   "source": [
    "import os\n",
    "import rasterio\n",
    "import numpy as np"
   ]
  },
  {
   "cell_type": "code",
   "execution_count": 2,
   "metadata": {},
   "outputs": [],
   "source": [
    "#!python image_downloader.py"
   ]
  },
  {
   "cell_type": "code",
   "execution_count": 3,
   "metadata": {},
   "outputs": [
    {
     "name": "stdout",
     "output_type": "stream",
     "text": [
      "00_J-29-C-1-O-6.tif  J-29-C-2-P-8.jgw  J-29-C-4-O-3.jpg  J-29-C-5-N-2.jgw\r\n",
      "J-29-C-1-O-6.jgw     J-29-C-2-P-8.jpg  J-29-C-4-O-6.jgw  J-29-C-5-N-2.jpg\r\n",
      "J-29-C-1-O-6.jpg     J-29-C-2-P-9.jgw  J-29-C-4-O-6.jpg  J-29-C-5-N-3.jgw\r\n",
      "J-29-C-1-O-9.jgw     J-29-C-2-P-9.jpg  J-29-C-4-O-9.jgw  J-29-C-5-N-3.jpg\r\n",
      "J-29-C-1-O-9.jpg     J-29-C-3-O-4.jgw  J-29-C-4-O-9.jpg  J-29-C-5-N-4.jgw\r\n",
      "J-29-C-1-P-4.jgw     J-29-C-3-O-4.jpg  J-29-C-4-P-1.jgw  J-29-C-5-N-4.jpg\r\n",
      "J-29-C-1-P-4.jpg     J-29-C-3-O-7.jgw  J-29-C-4-P-1.jpg  J-29-C-5-N-5.jgw\r\n",
      "J-29-C-1-P-5.jgw     J-29-C-3-O-7.jpg  J-29-C-4-P-2.jgw  J-29-C-5-N-5.jpg\r\n",
      "J-29-C-1-P-5.jpg     J-29-C-3-O-8.jgw  J-29-C-4-P-2.jpg  J-29-C-5-N-6.jgw\r\n",
      "J-29-C-1-P-6.jgw     J-29-C-3-O-8.jpg  J-29-C-4-P-3.jgw  J-29-C-5-N-6.jpg\r\n",
      "J-29-C-1-P-6.jpg     J-29-C-3-O-9.jgw  J-29-C-4-P-3.jpg  J-29-C-5-N-7.jgw\r\n",
      "J-29-C-1-P-7.jgw     J-29-C-3-O-9.jpg  J-29-C-4-P-4.jgw  J-29-C-5-N-7.jpg\r\n",
      "J-29-C-1-P-7.jpg     J-29-C-4-M-3.jgw  J-29-C-4-P-4.jpg  J-29-C-5-N-8.jgw\r\n",
      "J-29-C-1-P-8.jgw     J-29-C-4-M-3.jpg  J-29-C-4-P-5.jgw  J-29-C-5-N-8.jpg\r\n",
      "J-29-C-1-P-8.jpg     J-29-C-4-M-6.jgw  J-29-C-4-P-5.jpg  J-29-C-5-N-9.jgw\r\n",
      "J-29-C-1-P-9.jgw     J-29-C-4-M-6.jpg  J-29-C-4-P-7.jgw  J-29-C-5-N-9.jpg\r\n",
      "J-29-C-1-P-9.jpg     J-29-C-4-M-9.jgw  J-29-C-4-P-7.jpg  J-29-C-5-O-1.jgw\r\n",
      "J-29-C-2-O-4.jgw     J-29-C-4-M-9.jpg  J-29-C-5-M-1.jgw  J-29-C-5-O-1.jpg\r\n",
      "J-29-C-2-O-4.jpg     J-29-C-4-N-1.jgw  J-29-C-5-M-1.jpg  J-29-C-5-O-2.jgw\r\n",
      "J-29-C-2-O-5.jgw     J-29-C-4-N-1.jpg  J-29-C-5-M-2.jgw  J-29-C-5-O-2.jpg\r\n",
      "J-29-C-2-O-5.jpg     J-29-C-4-N-2.jgw  J-29-C-5-M-2.jpg  J-29-C-5-O-3.jgw\r\n",
      "J-29-C-2-O-6.jgw     J-29-C-4-N-2.jpg  J-29-C-5-M-3.jgw  J-29-C-5-O-3.jpg\r\n",
      "J-29-C-2-O-6.jpg     J-29-C-4-N-3.jgw  J-29-C-5-M-3.jpg  J-29-C-5-P-1.jgw\r\n",
      "J-29-C-2-O-7.jgw     J-29-C-4-N-3.jpg  J-29-C-5-M-4.jgw  J-29-C-5-P-1.jpg\r\n",
      "J-29-C-2-O-7.jpg     J-29-C-4-N-4.jgw  J-29-C-5-M-4.jpg  J-29-C-5-P-2.jgw\r\n",
      "J-29-C-2-O-8.jgw     J-29-C-4-N-4.jpg  J-29-C-5-M-5.jgw  J-29-C-5-P-2.jpg\r\n",
      "J-29-C-2-O-8.jpg     J-29-C-4-N-5.jgw  J-29-C-5-M-5.jpg  J-29-C-6-M-1.jgw\r\n",
      "J-29-C-2-O-9.jgw     J-29-C-4-N-5.jpg  J-29-C-5-M-6.jgw  J-29-C-6-M-1.jpg\r\n",
      "J-29-C-2-O-9.jpg     J-29-C-4-N-6.jgw  J-29-C-5-M-6.jpg  J-29-C-6-M-2.jgw\r\n",
      "J-29-C-2-P-4.jgw     J-29-C-4-N-6.jpg  J-29-C-5-M-7.jgw  J-29-C-6-M-2.jpg\r\n",
      "J-29-C-2-P-4.jpg     J-29-C-4-N-7.jgw  J-29-C-5-M-7.jpg  J-29-C-6-M-3.jgw\r\n",
      "J-29-C-2-P-5.jgw     J-29-C-4-N-7.jpg  J-29-C-5-M-8.jgw  J-29-C-6-M-3.jpg\r\n",
      "J-29-C-2-P-5.jpg     J-29-C-4-N-8.jgw  J-29-C-5-M-8.jpg  J-29-C-6-M-4.jgw\r\n",
      "J-29-C-2-P-6.jgw     J-29-C-4-N-8.jpg  J-29-C-5-M-9.jgw  J-29-C-6-M-4.jpg\r\n",
      "J-29-C-2-P-6.jpg     J-29-C-4-N-9.jgw  J-29-C-5-M-9.jpg  J-29-C-6-M-5.jgw\r\n",
      "J-29-C-2-P-7.jgw     J-29-C-4-N-9.jpg  J-29-C-5-N-1.jgw  J-29-C-6-M-5.jpg\r\n",
      "J-29-C-2-P-7.jpg     J-29-C-4-O-3.jgw  J-29-C-5-N-1.jpg\r\n"
     ]
    }
   ],
   "source": [
    "!ls images"
   ]
  },
  {
   "cell_type": "code",
   "execution_count": 4,
   "metadata": {},
   "outputs": [],
   "source": [
    "# Filepath\n",
    "dataset = 'images/J-29-C-1-O-6.jpg'\n",
    "\n",
    "# Outfile path\n",
    "outpath = 'iamges/tif'\n"
   ]
  },
  {
   "cell_type": "code",
   "execution_count": 5,
   "metadata": {},
   "outputs": [
    {
     "data": {
      "text/plain": [
       "{'driver': 'JPEG',\n",
       " 'dtype': 'uint8',\n",
       " 'nodata': None,\n",
       " 'width': 10221,\n",
       " 'height': 9405,\n",
       " 'count': 3,\n",
       " 'crs': None,\n",
       " 'transform': Affine(0.1, 0.0, 578553.31912,\n",
       "        0.0, -0.1, 6142195.42879)}"
      ]
     },
     "execution_count": 5,
     "metadata": {},
     "output_type": "execute_result"
    }
   ],
   "source": [
    "\n",
    "# Open multiband raster\n",
    "raster = rasterio.open(dataset)\n",
    "raster.meta\n"
   ]
  },
  {
   "cell_type": "code",
   "execution_count": 6,
   "metadata": {},
   "outputs": [
    {
     "name": "stdout",
     "output_type": "stream",
     "text": [
      "Directory already exists\n"
     ]
    }
   ],
   "source": [
    "if not os.path.isdir(outpath):\n",
    "    os.makedirs(outpath)\n",
    "    print('Directory was created')\n",
    "else:\n",
    "    print('Directory already exists')"
   ]
  },
  {
   "cell_type": "code",
   "execution_count": 16,
   "metadata": {},
   "outputs": [
    {
     "ename": "InvalidArrayError",
     "evalue": "Positional argument arr must be an array-like object",
     "output_type": "error",
     "traceback": [
      "\u001b[0;31m---------------------------------------------------------------------------\u001b[0m",
      "\u001b[0;31mInvalidArrayError\u001b[0m                         Traceback (most recent call last)",
      "\u001b[0;32m<ipython-input-16-de119d8c149d>\u001b[0m in \u001b[0;36m<module>\u001b[0;34m\u001b[0m\n\u001b[1;32m     16\u001b[0m     \u001b[0;34m**\u001b[0m\u001b[0mout_meta\u001b[0m\u001b[0;34m\u001b[0m\u001b[0;34m\u001b[0m\u001b[0m\n\u001b[1;32m     17\u001b[0m ) as dst:\n\u001b[0;32m---> 18\u001b[0;31m     \u001b[0mdst\u001b[0m\u001b[0;34m.\u001b[0m\u001b[0mwrite\u001b[0m\u001b[0;34m(\u001b[0m\u001b[0mraster\u001b[0m\u001b[0;34m,\u001b[0m \u001b[0;36m1\u001b[0m\u001b[0;34m)\u001b[0m\u001b[0;34m\u001b[0m\u001b[0;34m\u001b[0m\u001b[0m\n\u001b[0m",
      "\u001b[0;32mrasterio/_io.pyx\u001b[0m in \u001b[0;36mrasterio._io.DatasetWriterBase.write\u001b[0;34m()\u001b[0m\n",
      "\u001b[0;31mInvalidArrayError\u001b[0m: Positional argument arr must be an array-like object"
     ]
    }
   ],
   "source": [
    "out_meta = raster.meta.copy()\n",
    "\n",
    "out_meta.update({\n",
    "    'driver': 'GTiff',\n",
    "    'count': 1,\n",
    "    'dtype': 'float32',\n",
    "    'crs': 'EPSG:32721', \n",
    "    'nodata': 0,\n",
    "    'compress': 'lzw',\n",
    "    'count': 3,\n",
    "})\n",
    "\n",
    "with rasterio.open(\n",
    "    'images/00_J-29-C-1-O-6.tif',\n",
    "    mode= 'w',\n",
    "    **out_meta\n",
    ") as dst:\n",
    "    dst.write(1, raster.read(1))\n",
    "    dst.write_band(2, raster.read(2))\n",
    "    dst.write_band(3, raster.read(3))"
   ]
  },
  {
   "cell_type": "code",
   "execution_count": 14,
   "metadata": {},
   "outputs": [
    {
     "data": {
      "text/plain": [
       "<open DatasetReader name='images/J-29-C-1-O-6.jpg' mode='r'>"
      ]
     },
     "execution_count": 14,
     "metadata": {},
     "output_type": "execute_result"
    }
   ],
   "source": [
    "raster"
   ]
  },
  {
   "cell_type": "code",
   "execution_count": null,
   "metadata": {},
   "outputs": [],
   "source": [
    "raster.read(2)"
   ]
  },
  {
   "cell_type": "code",
   "execution_count": null,
   "metadata": {},
   "outputs": [],
   "source": []
  }
 ],
 "metadata": {
  "kernelspec": {
   "display_name": "Python 3",
   "language": "python",
   "name": "python3"
  },
  "language_info": {
   "codemirror_mode": {
    "name": "ipython",
    "version": 3
   },
   "file_extension": ".py",
   "mimetype": "text/x-python",
   "name": "python",
   "nbconvert_exporter": "python",
   "pygments_lexer": "ipython3",
   "version": "3.6.9"
  }
 },
 "nbformat": 4,
 "nbformat_minor": 2
}
