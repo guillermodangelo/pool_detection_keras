{
 "cells": [
  {
   "cell_type": "code",
   "execution_count": 1,
   "metadata": {},
   "outputs": [],
   "source": [
    "import os\n",
    "import rasterio"
   ]
  },
  {
   "cell_type": "code",
   "execution_count": 2,
   "metadata": {},
   "outputs": [
    {
     "name": "stdout",
     "output_type": "stream",
     "text": [
      "['J-29-C-2-P-9.jpg', 'J-29-C-5-M-4.jpg', 'J-29-C-3-O-9.jpg', 'J-29-C-5-M-2.jpg', 'J-29-C-2-O-7.jpg']\n"
     ]
    }
   ],
   "source": [
    "input_images = [img for img in os.listdir('images') if img.endswith('.jpg')]\n",
    "print(input_images[:5])\n",
    "\n",
    "inpath = 'images'\n",
    "outpath = 'images/tif'"
   ]
  },
  {
   "cell_type": "code",
   "execution_count": 3,
   "metadata": {},
   "outputs": [
    {
     "name": "stdout",
     "output_type": "stream",
     "text": [
      "Directory was created\n"
     ]
    }
   ],
   "source": [
    "if not os.path.isdir(outpath):\n",
    "    os.makedirs(outpath)\n",
    "    print('Directory was created')\n",
    "else:\n",
    "    print('Directory already exists')"
   ]
  },
  {
   "cell_type": "code",
   "execution_count": 4,
   "metadata": {},
   "outputs": [],
   "source": [
    "kwargs = {\n",
    "    'driver': 'GTiff',\n",
    "    'dtype': 'float32',\n",
    "    'crs': 'EPSG:32721', \n",
    "    'nodata': 0,\n",
    "    'compress': 'lzw',\n",
    "    'count': 3\n",
    "}\n",
    "\n",
    "for img in input_images:\n",
    "    input_file = os.path.join(inpath, img)\n",
    "    output_file = os.path.join(outpath, img.replace('.jpg', '.tif'))\n",
    "\n",
    "    raster = rasterio.open(input_file)\n",
    "\n",
    "    out_meta = raster.meta.copy()\n",
    "    out_meta.update(kwargs)\n",
    "\n",
    "    with rasterio.open(\n",
    "        output_file,\n",
    "        mode= 'w',\n",
    "        **out_meta\n",
    "    ) as dst:\n",
    "        dst.write_band(1, raster.read(1))\n",
    "        dst.write_band(2, raster.read(2))\n",
    "        dst.write_band(3, raster.read(3))"
   ]
  },
  {
   "cell_type": "code",
   "execution_count": null,
   "metadata": {},
   "outputs": [],
   "source": []
  }
 ],
 "metadata": {
  "kernelspec": {
   "display_name": "Python 3 (ipykernel)",
   "language": "python",
   "name": "python3"
  },
  "language_info": {
   "codemirror_mode": {
    "name": "ipython",
    "version": 3
   },
   "file_extension": ".py",
   "mimetype": "text/x-python",
   "name": "python",
   "nbconvert_exporter": "python",
   "pygments_lexer": "ipython3",
   "version": "3.11.0rc1"
  }
 },
 "nbformat": 4,
 "nbformat_minor": 4
}
