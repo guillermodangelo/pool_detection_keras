{
 "cells": [
  {
   "cell_type": "code",
   "execution_count": 6,
   "metadata": {},
   "outputs": [],
   "source": [
    "import os\n",
    "import rasterio"
   ]
  },
  {
   "cell_type": "code",
   "execution_count": null,
   "metadata": {},
   "outputs": [],
   "source": [
    "input_images = [img for img in os.listdir('images') if img.endswith('.jpg')]\n",
    "print(input_images[:5])\n",
    "\n",
    "inpath = 'images'\n",
    "outpath = 'images/tif'"
   ]
  },
  {
   "cell_type": "code",
   "execution_count": null,
   "metadata": {},
   "outputs": [],
   "source": [
    "if not os.path.isdir(outpath):\n",
    "    os.makedirs(outpath)\n",
    "    print('Directory was created')\n",
    "else:\n",
    "    print('Directory already exists')"
   ]
  },
  {
   "cell_type": "code",
   "execution_count": null,
   "metadata": {},
   "outputs": [],
   "source": [
    "kwargs = {\n",
    "    'driver': 'GTiff',\n",
    "    'dtype': 'float32',\n",
    "    'crs': 'EPSG:32721', \n",
    "    'nodata': 0,\n",
    "    'compress': 'lzw',\n",
    "    'count': 3\n",
    "}\n",
    "\n",
    "for img in input_images:\n",
    "    input_file = os.path.join(inpath, img)\n",
    "    output_file = os.path.join(outpath, img.replace('.jpg', '.tif'))\n",
    "\n",
    "    raster = rasterio.open(input_file)\n",
    "\n",
    "    out_meta = raster.meta.copy()\n",
    "    out_meta.update(kwargs)\n",
    "\n",
    "    with rasterio.open(\n",
    "        output_file,\n",
    "        mode= 'w',\n",
    "        **out_meta\n",
    "    ) as dst:\n",
    "        dst.write_band(1, raster.read(1))\n",
    "        dst.write_band(2, raster.read(2))\n",
    "        dst.write_band(3, raster.read(3))"
   ]
  },
  {
   "cell_type": "markdown",
   "metadata": {},
   "source": [
    "## Vector masking"
   ]
  },
  {
   "cell_type": "code",
   "execution_count": 7,
   "metadata": {},
   "outputs": [],
   "source": [
    "import matplotlib.pyplot as plt\n",
    "import numpy as np\n",
    "from rasterio.plot import show\n",
    "import geopandas as gpd\n",
    "from rasterio import features"
   ]
  },
  {
   "cell_type": "code",
   "execution_count": 8,
   "metadata": {},
   "outputs": [],
   "source": [
    "# Read in vector\n",
    "vector = gpd.read_file(\"input_vector_data/labels.geojson\")\n",
    "\n",
    "# Get list of geometries for all features in vector file\n",
    "geom = [shapes for shapes in vector.geometry]"
   ]
  },
  {
   "cell_type": "code",
   "execution_count": null,
   "metadata": {},
   "outputs": [],
   "source": [
    "vector.plot()"
   ]
  },
  {
   "cell_type": "code",
   "execution_count": null,
   "metadata": {},
   "outputs": [],
   "source": [
    "input_tif = 'images/tif/J-29-C-5-M-9.tif'\n",
    "\n",
    "raster = rasterio.open(input_tif)"
   ]
  },
  {
   "cell_type": "code",
   "execution_count": null,
   "metadata": {},
   "outputs": [],
   "source": [
    "# Function to normalize the grid values\n",
    "def normalize(array):\n",
    "    \"\"\"Normalizes numpy arrays into scale 0.0 - 1.0\"\"\"\n",
    "    array_min, array_max = array.min(), array.max()\n",
    "    return ((array - array_min)/(array_max - array_min))\n",
    "\n",
    "# Normalize the bands\n",
    "redn = normalize(raster.read(1))\n",
    "greenn = normalize(raster.read(2))\n",
    "bluen = normalize(raster.read(3))\n",
    "\n",
    "rgb = np.dstack((redn, greenn, bluen))\n",
    "\n",
    "# Let's see how our color composite looks like\n",
    "plt.imshow(rgb)"
   ]
  },
  {
   "cell_type": "code",
   "execution_count": null,
   "metadata": {},
   "outputs": [],
   "source": [
    "metadata = raster.meta.copy()\n",
    "metadata"
   ]
  },
  {
   "cell_type": "code",
   "execution_count": null,
   "metadata": {},
   "outputs": [],
   "source": [
    "metadata['transform']"
   ]
  },
  {
   "cell_type": "code",
   "execution_count": null,
   "metadata": {},
   "outputs": [],
   "source": [
    "# Rasterize vector using the shape and coordinate system of the raster\n",
    "rasterized = features.rasterize(\n",
    "    geom,\n",
    "    out_shape = raster.shape,\n",
    "    fill = 0,\n",
    "    out = None,\n",
    "    transform = raster.transform,\n",
    "    all_touched = False,\n",
    "    default_value = 1,\n",
    "    dtype = None)\n",
    "\n",
    "# Plot raster\n",
    "fig, ax = plt.subplots(1, figsize = (10, 10))\n",
    "show(rasterized, ax = ax)\n",
    "plt.gca().invert_yaxis()"
   ]
  },
  {
   "cell_type": "code",
   "execution_count": null,
   "metadata": {},
   "outputs": [],
   "source": [
    "metadata['crs']"
   ]
  },
  {
   "cell_type": "code",
   "execution_count": null,
   "metadata": {},
   "outputs": [],
   "source": [
    "new_dataset = rasterio.open(\n",
    "    'foo.tif',\n",
    "    'w',\n",
    "    driver='GTiff',\n",
    "    height = rasterized.shape[0],\n",
    "    width = rasterized.shape[1],\n",
    "    count=1,\n",
    "    dtype=str(rasterized.dtype),\n",
    "    crs=metadata['crs'],\n",
    "    transform=metadata['transform'])\n",
    "\n",
    "new_dataset.write(rasterized, 1)\n",
    "new_dataset.close()"
   ]
  },
  {
   "cell_type": "code",
   "execution_count": 9,
   "metadata": {},
   "outputs": [],
   "source": [
    "vector = gpd.read_file(\"input_vector_data/labels.geojson\")\n",
    "geom = [shapes for shapes in vector.geometry]\n",
    "\n",
    "def generate_mask(input_image, labels, output_image):\n",
    "    raster = rasterio.open(input_image)\n",
    "    metadata = raster.meta.copy()\n",
    "\n",
    "    rasterized = features.rasterize(\n",
    "        geom,\n",
    "        out_shape = raster.shape,\n",
    "        fill = 0,\n",
    "        out = None,\n",
    "        transform = raster.transform,\n",
    "        all_touched = False,\n",
    "        default_value = 1,\n",
    "        dtype = None)\n",
    "    \n",
    "    if np.sum(rasterized)==0:\n",
    "        print(f'No intersection between {input_image} and vector')\n",
    "        return\n",
    "    else:\n",
    "        new_dataset = rasterio.open(\n",
    "            output_image,\n",
    "            'w',\n",
    "            driver='GTiff',\n",
    "            height=rasterized.shape[0],\n",
    "            width=rasterized.shape[1],\n",
    "            count=1,\n",
    "            dtype=str(rasterized.dtype),\n",
    "            crs=metadata['crs'],\n",
    "            transform=metadata['transform'])\n",
    "\n",
    "        new_dataset.write(rasterized, 1)\n",
    "        new_dataset.close()\n",
    "        print(f'Saved image to {output_image}')"
   ]
  },
  {
   "cell_type": "code",
   "execution_count": 10,
   "metadata": {},
   "outputs": [
    {
     "data": {
      "text/plain": [
       "['images/tif/J-29-C-5-M-7.tif',\n",
       " 'images/tif/J-29-C-4-P-4.tif',\n",
       " 'images/tif/J-29-C-4-P-2.tif',\n",
       " 'images/tif/J-29-C-4-P-3.tif',\n",
       " 'images/tif/J-29-C-4-N-3.tif']"
      ]
     },
     "execution_count": 10,
     "metadata": {},
     "output_type": "execute_result"
    }
   ],
   "source": [
    "input_images = [f'images/tif/{img}' for img in os.listdir('images/tif') if img.endswith('.tif')]\n",
    "input_images[:5]"
   ]
  },
  {
   "cell_type": "code",
   "execution_count": 11,
   "metadata": {},
   "outputs": [
    {
     "data": {
      "text/plain": [
       "['images/tif/masks/J-29-C-5-M-7.tif',\n",
       " 'images/tif/masks/J-29-C-4-P-4.tif',\n",
       " 'images/tif/masks/J-29-C-4-P-2.tif',\n",
       " 'images/tif/masks/J-29-C-4-P-3.tif',\n",
       " 'images/tif/masks/J-29-C-4-N-3.tif']"
      ]
     },
     "execution_count": 11,
     "metadata": {},
     "output_type": "execute_result"
    }
   ],
   "source": [
    "output_images = [f'{os.path.dirname(img)}/masks/{os.path.basename(img)}' for img in input_images]\n",
    "output_images[:5]"
   ]
  },
  {
   "cell_type": "code",
   "execution_count": 12,
   "metadata": {},
   "outputs": [
    {
     "name": "stdout",
     "output_type": "stream",
     "text": [
      "No intersection between images/tif/J-29-C-5-M-7.tif and vector\n",
      "No intersection between images/tif/J-29-C-4-P-4.tif and vector\n",
      "No intersection between images/tif/J-29-C-4-P-2.tif and vector\n",
      "No intersection between images/tif/J-29-C-4-P-3.tif and vector\n",
      "No intersection between images/tif/J-29-C-4-N-3.tif and vector\n",
      "No intersection between images/tif/J-29-C-4-O-9.tif and vector\n",
      "No intersection between images/tif/J-29-C-4-N-6.tif and vector\n",
      "No intersection between images/tif/J-29-C-6-M-5.tif and vector\n",
      "No intersection between images/tif/J-29-C-4-N-2.tif and vector\n",
      "No intersection between images/tif/J-29-C-5-M-2.tif and vector\n",
      "No intersection between images/tif/J-29-C-6-M-2.tif and vector\n",
      "No intersection between images/tif/J-29-C-5-N-4.tif and vector\n",
      "No intersection between images/tif/J-29-C-2-O-7.tif and vector\n",
      "No intersection between images/tif/J-29-C-1-O-6.tif and vector\n",
      "No intersection between images/tif/J-29-C-2-O-8.tif and vector\n",
      "No intersection between images/tif/J-29-C-2-P-9.tif and vector\n",
      "No intersection between images/tif/J-29-C-3-O-4.tif and vector\n",
      "No intersection between images/tif/J-29-C-5-M-1.tif and vector\n",
      "No intersection between images/tif/J-29-C-1-P-5.tif and vector\n",
      "Saved image to images/tif/masks/J-29-C-5-M-5.tif\n",
      "No intersection between images/tif/J-29-C-2-P-6.tif and vector\n",
      "No intersection between images/tif/J-29-C-4-O-3.tif and vector\n",
      "No intersection between images/tif/J-29-C-4-P-7.tif and vector\n",
      "Saved image to images/tif/masks/J-29-C-5-P-1.tif\n",
      "No intersection between images/tif/J-29-C-1-P-6.tif and vector\n",
      "Saved image to images/tif/masks/J-29-C-5-N-8.tif\n",
      "No intersection between images/tif/J-29-C-5-M-3.tif and vector\n",
      "No intersection between images/tif/J-29-C-1-P-8.tif and vector\n",
      "No intersection between images/tif/J-29-C-4-M-9.tif and vector\n",
      "No intersection between images/tif/J-29-C-5-M-6.tif and vector\n",
      "No intersection between images/tif/J-29-C-2-O-9.tif and vector\n",
      "No intersection between images/tif/J-29-C-2-P-5.tif and vector\n",
      "No intersection between images/tif/J-29-C-1-P-7.tif and vector\n",
      "No intersection between images/tif/J-29-C-4-P-5.tif and vector\n",
      "No intersection between images/tif/J-29-C-1-O-9.tif and vector\n",
      "No intersection between images/tif/J-29-C-1-P-4.tif and vector\n",
      "No intersection between images/tif/J-29-C-4-N-4.tif and vector\n",
      "No intersection between images/tif/J-29-C-2-P-4.tif and vector\n",
      "No intersection between images/tif/J-29-C-3-O-7.tif and vector\n",
      "No intersection between images/tif/J-29-C-5-N-3.tif and vector\n",
      "No intersection between images/tif/J-29-C-4-P-1.tif and vector\n",
      "No intersection between images/tif/J-29-C-4-N-8.tif and vector\n",
      "No intersection between images/tif/J-29-C-5-N-9.tif and vector\n",
      "No intersection between images/tif/J-29-C-4-N-1.tif and vector\n",
      "No intersection between images/tif/J-29-C-2-O-6.tif and vector\n",
      "No intersection between images/tif/J-29-C-5-N-2.tif and vector\n",
      "Saved image to images/tif/masks/J-29-C-5-N-7.tif\n",
      "No intersection between images/tif/J-29-C-2-O-5.tif and vector\n",
      "No intersection between images/tif/J-29-C-5-O-1.tif and vector\n",
      "No intersection between images/tif/J-29-C-5-M-4.tif and vector\n",
      "No intersection between images/tif/J-29-C-2-P-8.tif and vector\n",
      "Saved image to images/tif/masks/J-29-C-5-O-3.tif\n",
      "No intersection between images/tif/J-29-C-6-M-1.tif and vector\n",
      "No intersection between images/tif/J-29-C-4-O-6.tif and vector\n",
      "No intersection between images/tif/J-29-C-1-P-9.tif and vector\n",
      "No intersection between images/tif/J-29-C-4-M-3.tif and vector\n",
      "No intersection between images/tif/J-29-C-5-N-1.tif and vector\n",
      "No intersection between images/tif/J-29-C-5-M-8.tif and vector\n",
      "No intersection between images/tif/J-29-C-3-O-9.tif and vector\n",
      "No intersection between images/tif/J-29-C-4-N-7.tif and vector\n",
      "No intersection between images/tif/J-29-C-5-P-2.tif and vector\n",
      "No intersection between images/tif/J-29-C-5-O-2.tif and vector\n",
      "No intersection between images/tif/J-29-C-4-N-5.tif and vector\n",
      "No intersection between images/tif/J-29-C-6-M-3.tif and vector\n",
      "Saved image to images/tif/masks/J-29-C-5-M-9.tif\n",
      "Saved image to images/tif/masks/J-29-C-5-N-5.tif\n",
      "No intersection between images/tif/J-29-C-3-O-8.tif and vector\n",
      "No intersection between images/tif/J-29-C-4-M-6.tif and vector\n",
      "No intersection between images/tif/J-29-C-4-N-9.tif and vector\n",
      "No intersection between images/tif/J-29-C-6-M-4.tif and vector\n",
      "No intersection between images/tif/J-29-C-2-P-7.tif and vector\n",
      "No intersection between images/tif/J-29-C-2-O-4.tif and vector\n",
      "Saved image to images/tif/masks/J-29-C-5-N-6.tif\n"
     ]
    }
   ],
   "source": [
    "for input_img, output_img in zip(input_images, output_images):\n",
    "    generate_mask(input_img, geom, output_img)"
   ]
  },
  {
   "cell_type": "code",
   "execution_count": null,
   "metadata": {},
   "outputs": [],
   "source": []
  }
 ],
 "metadata": {
  "kernelspec": {
   "display_name": "Python 3 (ipykernel)",
   "language": "python",
   "name": "python3"
  },
  "language_info": {
   "codemirror_mode": {
    "name": "ipython",
    "version": 3
   },
   "file_extension": ".py",
   "mimetype": "text/x-python",
   "name": "python",
   "nbconvert_exporter": "python",
   "pygments_lexer": "ipython3",
   "version": "3.7.3"
  }
 },
 "nbformat": 4,
 "nbformat_minor": 4
}
