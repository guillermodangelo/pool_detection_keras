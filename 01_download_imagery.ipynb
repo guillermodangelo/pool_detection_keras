{
 "cells": [
  {
   "cell_type": "code",
   "execution_count": 2,
   "metadata": {},
   "outputs": [],
   "source": [
    "!python image_downloader.py"
   ]
  },
  {
   "cell_type": "code",
   "execution_count": 3,
   "metadata": {},
   "outputs": [
    {
     "name": "stdout",
     "output_type": "stream",
     "text": [
      "00_J-29-C-1-O-6.tif  J-29-C-2-P-8.jgw  J-29-C-4-O-3.jpg  J-29-C-5-N-2.jgw\r\n",
      "J-29-C-1-O-6.jgw     J-29-C-2-P-8.jpg  J-29-C-4-O-6.jgw  J-29-C-5-N-2.jpg\r\n",
      "J-29-C-1-O-6.jpg     J-29-C-2-P-9.jgw  J-29-C-4-O-6.jpg  J-29-C-5-N-3.jgw\r\n",
      "J-29-C-1-O-9.jgw     J-29-C-2-P-9.jpg  J-29-C-4-O-9.jgw  J-29-C-5-N-3.jpg\r\n",
      "J-29-C-1-O-9.jpg     J-29-C-3-O-4.jgw  J-29-C-4-O-9.jpg  J-29-C-5-N-4.jgw\r\n",
      "J-29-C-1-P-4.jgw     J-29-C-3-O-4.jpg  J-29-C-4-P-1.jgw  J-29-C-5-N-4.jpg\r\n",
      "J-29-C-1-P-4.jpg     J-29-C-3-O-7.jgw  J-29-C-4-P-1.jpg  J-29-C-5-N-5.jgw\r\n",
      "J-29-C-1-P-5.jgw     J-29-C-3-O-7.jpg  J-29-C-4-P-2.jgw  J-29-C-5-N-5.jpg\r\n",
      "J-29-C-1-P-5.jpg     J-29-C-3-O-8.jgw  J-29-C-4-P-2.jpg  J-29-C-5-N-6.jgw\r\n",
      "J-29-C-1-P-6.jgw     J-29-C-3-O-8.jpg  J-29-C-4-P-3.jgw  J-29-C-5-N-6.jpg\r\n",
      "J-29-C-1-P-6.jpg     J-29-C-3-O-9.jgw  J-29-C-4-P-3.jpg  J-29-C-5-N-7.jgw\r\n",
      "J-29-C-1-P-7.jgw     J-29-C-3-O-9.jpg  J-29-C-4-P-4.jgw  J-29-C-5-N-7.jpg\r\n",
      "J-29-C-1-P-7.jpg     J-29-C-4-M-3.jgw  J-29-C-4-P-4.jpg  J-29-C-5-N-8.jgw\r\n",
      "J-29-C-1-P-8.jgw     J-29-C-4-M-3.jpg  J-29-C-4-P-5.jgw  J-29-C-5-N-8.jpg\r\n",
      "J-29-C-1-P-8.jpg     J-29-C-4-M-6.jgw  J-29-C-4-P-5.jpg  J-29-C-5-N-9.jgw\r\n",
      "J-29-C-1-P-9.jgw     J-29-C-4-M-6.jpg  J-29-C-4-P-7.jgw  J-29-C-5-N-9.jpg\r\n",
      "J-29-C-1-P-9.jpg     J-29-C-4-M-9.jgw  J-29-C-4-P-7.jpg  J-29-C-5-O-1.jgw\r\n",
      "J-29-C-2-O-4.jgw     J-29-C-4-M-9.jpg  J-29-C-5-M-1.jgw  J-29-C-5-O-1.jpg\r\n",
      "J-29-C-2-O-4.jpg     J-29-C-4-N-1.jgw  J-29-C-5-M-1.jpg  J-29-C-5-O-2.jgw\r\n",
      "J-29-C-2-O-5.jgw     J-29-C-4-N-1.jpg  J-29-C-5-M-2.jgw  J-29-C-5-O-2.jpg\r\n",
      "J-29-C-2-O-5.jpg     J-29-C-4-N-2.jgw  J-29-C-5-M-2.jpg  J-29-C-5-O-3.jgw\r\n",
      "J-29-C-2-O-6.jgw     J-29-C-4-N-2.jpg  J-29-C-5-M-3.jgw  J-29-C-5-O-3.jpg\r\n",
      "J-29-C-2-O-6.jpg     J-29-C-4-N-3.jgw  J-29-C-5-M-3.jpg  J-29-C-5-P-1.jgw\r\n",
      "J-29-C-2-O-7.jgw     J-29-C-4-N-3.jpg  J-29-C-5-M-4.jgw  J-29-C-5-P-1.jpg\r\n",
      "J-29-C-2-O-7.jpg     J-29-C-4-N-4.jgw  J-29-C-5-M-4.jpg  J-29-C-5-P-2.jgw\r\n",
      "J-29-C-2-O-8.jgw     J-29-C-4-N-4.jpg  J-29-C-5-M-5.jgw  J-29-C-5-P-2.jpg\r\n",
      "J-29-C-2-O-8.jpg     J-29-C-4-N-5.jgw  J-29-C-5-M-5.jpg  J-29-C-6-M-1.jgw\r\n",
      "J-29-C-2-O-9.jgw     J-29-C-4-N-5.jpg  J-29-C-5-M-6.jgw  J-29-C-6-M-1.jpg\r\n",
      "J-29-C-2-O-9.jpg     J-29-C-4-N-6.jgw  J-29-C-5-M-6.jpg  J-29-C-6-M-2.jgw\r\n",
      "J-29-C-2-P-4.jgw     J-29-C-4-N-6.jpg  J-29-C-5-M-7.jgw  J-29-C-6-M-2.jpg\r\n",
      "J-29-C-2-P-4.jpg     J-29-C-4-N-7.jgw  J-29-C-5-M-7.jpg  J-29-C-6-M-3.jgw\r\n",
      "J-29-C-2-P-5.jgw     J-29-C-4-N-7.jpg  J-29-C-5-M-8.jgw  J-29-C-6-M-3.jpg\r\n",
      "J-29-C-2-P-5.jpg     J-29-C-4-N-8.jgw  J-29-C-5-M-8.jpg  J-29-C-6-M-4.jgw\r\n",
      "J-29-C-2-P-6.jgw     J-29-C-4-N-8.jpg  J-29-C-5-M-9.jgw  J-29-C-6-M-4.jpg\r\n",
      "J-29-C-2-P-6.jpg     J-29-C-4-N-9.jgw  J-29-C-5-M-9.jpg  J-29-C-6-M-5.jgw\r\n",
      "J-29-C-2-P-7.jgw     J-29-C-4-N-9.jpg  J-29-C-5-N-1.jgw  J-29-C-6-M-5.jpg\r\n",
      "J-29-C-2-P-7.jpg     J-29-C-4-O-3.jgw  J-29-C-5-N-1.jpg\r\n"
     ]
    }
   ],
   "source": [
    "!ls images"
   ]
  }
 ],
 "metadata": {
  "kernelspec": {
   "display_name": "Python 3 (ipykernel)",
   "language": "python",
   "name": "python3"
  },
  "language_info": {
   "codemirror_mode": {
    "name": "ipython",
    "version": 3
   },
   "file_extension": ".py",
   "mimetype": "text/x-python",
   "name": "python",
   "nbconvert_exporter": "python",
   "pygments_lexer": "ipython3",
   "version": "3.11.0rc1"
  }
 },
 "nbformat": 4,
 "nbformat_minor": 4
}
